{
 "cells": [
  {
   "cell_type": "markdown",
   "metadata": {},
   "source": [
    "## Подготовительный этап"
   ]
  },
  {
   "cell_type": "code",
   "execution_count": 2,
   "metadata": {
    "collapsed": true
   },
   "outputs": [],
   "source": [
    "# Полезные импорты\n",
    "import numpy as np\n",
    "import pandas as pd\n",
    "from sklearn import metrics\n",
    "from sklearn.model_selection import train_test_split\n",
    "from sklearn.metrics import accuracy_score\n",
    "\n",
    "# Модели\n",
    "from sklearn.model_selection import GridSearchCV, RandomizedSearchCV\n",
    "from sklearn.linear_model import LogisticRegression\n",
    "from sklearn.neighbors import KNeighborsClassifier\n",
    "from sklearn.tree import DecisionTreeClassifier\n",
    "from sklearn.svm import LinearSVC\n",
    "from sklearn.ensemble import RandomForestClassifier, GradientBoostingClassifier\n"
   ]
  },
  {
   "cell_type": "code",
   "execution_count": 3,
   "metadata": {
    "collapsed": true
   },
   "outputs": [],
   "source": [
    "# Подготовка данных\n",
    "bioresponce = pd.read_csv('bioresponse.csv', header=0, sep=',') #прогрузила данные\n",
    "y = bioresponce.Activity.values                                 #задала x и y\n",
    "X = bioresponce.iloc[:, 1:]\n",
    "\n",
    "X_train, X_test, y_train, y_test = train_test_split(X, y, test_size=0.33, random_state=42) #разбили на тест и тренировку"
   ]
  },
  {
   "cell_type": "markdown",
   "metadata": {},
   "source": [
    "# Модель KNeighborsClassifier"
   ]
  },
  {
   "cell_type": "markdown",
   "metadata": {},
   "source": [
    "## Grid"
   ]
  },
  {
   "cell_type": "code",
   "execution_count": 33,
   "metadata": {},
   "outputs": [
    {
     "name": "stdout",
     "output_type": "stream",
     "text": [
      "KNeighborsClassifier(algorithm='auto', leaf_size=30, metric='minkowski',\n",
      "           metric_params=None, n_jobs=1, n_neighbors=5, p=2,\n",
      "           weights='uniform')\n",
      "А теперь результат:\n",
      "0.730202944688\n",
      "Wall time: 17min 52s\n"
     ]
    }
   ],
   "source": [
    "%%time\n",
    "\n",
    "model = KNeighborsClassifier()\n",
    "#model.fit(X_train, y_train)\n",
    "print(model)\n",
    "\n",
    "print (\"А теперь результат:\")\n",
    "parameters = {'n_neighbors':[1, 5, 10], 'p':[1, 2, 3, 4]} #\n",
    "\n",
    "#preds = model.predict(X_test)\n",
    "#print(accuracy_score(preds, y_test))\n",
    "\n",
    "grid = GridSearchCV(model, param_grid = parameters, n_jobs = 8)\n",
    "grid.fit(X_train, y_train)\n",
    "print (grid.best_score_)"
   ]
  },
  {
   "cell_type": "markdown",
   "metadata": {},
   "source": [
    "## Random"
   ]
  },
  {
   "cell_type": "code",
   "execution_count": 15,
   "metadata": {},
   "outputs": [
    {
     "name": "stdout",
     "output_type": "stream",
     "text": [
      "KNeighborsClassifier(algorithm='auto', leaf_size=30, metric='minkowski',\n",
      "           metric_params=None, n_jobs=1, n_neighbors=5, p=2,\n",
      "           weights='uniform')\n",
      "А теперь результат:\n",
      "0.727417429367\n",
      "Wall time: 2min 50s\n"
     ]
    }
   ],
   "source": [
    "%%time\n",
    "\n",
    "model = KNeighborsClassifier()\n",
    "#model.fit(X_train, y_train)\n",
    "print(model)\n",
    "\n",
    "print (\"А теперь результат:\")\n",
    "parameters = {'n_neighbors':[1, 5, 10, 15, 20]} \n",
    "\n",
    "n_iter_search = 3\n",
    "random_search = RandomizedSearchCV(model, param_distributions = parameters, n_iter = n_iter_search)\n",
    "random_search.fit(X_train, y_train)\n",
    "print (random_search.best_score_)"
   ]
  },
  {
   "cell_type": "markdown",
   "metadata": {},
   "source": [
    "## Модель DecisionTreeClassifier"
   ]
  },
  {
   "cell_type": "code",
   "execution_count": 47,
   "metadata": {},
   "outputs": [
    {
     "name": "stdout",
     "output_type": "stream",
     "text": [
      "DecisionTreeClassifier(class_weight=None, criterion='gini', max_depth=None,\n",
      "            max_features=None, max_leaf_nodes=None,\n",
      "            min_impurity_decrease=0.0, min_impurity_split=None,\n",
      "            min_samples_leaf=1, min_samples_split=2,\n",
      "            min_weight_fraction_leaf=0.0, presort=False, random_state=None,\n",
      "            splitter='best')\n",
      "А теперь результат:\n",
      "0.710306406685\n",
      "Wall time: 1min 56s\n"
     ]
    }
   ],
   "source": [
    "%%time\n",
    "\n",
    "model = DecisionTreeClassifier()\n",
    "print(model)\n",
    "\n",
    "print (\"А теперь результат:\")\n",
    "parameters = {'min_samples_leaf':[1, 2, 3, 4, 5], 'min_samples_split':[2, 3, 4, 5], 'presort':[False, True]} \n",
    "\n",
    "grid = GridSearchCV(model, param_grid = parameters, n_jobs = 8)\n",
    "grid.fit(X_train, y_train)\n",
    "print (grid.best_score_)"
   ]
  },
  {
   "cell_type": "code",
   "execution_count": 4,
   "metadata": {},
   "outputs": [
    {
     "name": "stdout",
     "output_type": "stream",
     "text": [
      "DecisionTreeClassifier(class_weight=None, criterion='gini', max_depth=None,\n",
      "            max_features=None, max_leaf_nodes=None,\n",
      "            min_impurity_decrease=0.0, min_impurity_split=None,\n",
      "            min_samples_leaf=1, min_samples_split=2,\n",
      "            min_weight_fraction_leaf=0.0, presort=False, random_state=None,\n",
      "            splitter='best')\n",
      "А теперь результат:\n",
      "0.703143653004\n",
      "Wall time: 20.1 s\n"
     ]
    }
   ],
   "source": [
    "%%time\n",
    "\n",
    "model = DecisionTreeClassifier()\n",
    "print(model)\n",
    "\n",
    "print (\"А теперь результат:\")\n",
    "parameters = {'min_samples_leaf':[1, 2, 3, 4, 5], 'min_samples_split':[2, 3, 4, 5], 'presort':[False, True]} \n",
    "\n",
    "n_iter_search = 5\n",
    "random_search = RandomizedSearchCV(model, param_distributions = parameters, n_iter = n_iter_search)\n",
    "random_search.fit(X_train, y_train)\n",
    "print (random_search.best_score_)"
   ]
  },
  {
   "cell_type": "markdown",
   "metadata": {},
   "source": [
    "## Модель LinearSVC"
   ]
  },
  {
   "cell_type": "code",
   "execution_count": 49,
   "metadata": {},
   "outputs": [
    {
     "name": "stdout",
     "output_type": "stream",
     "text": [
      "LinearSVC(C=1.0, class_weight=None, dual=True, fit_intercept=True,\n",
      "     intercept_scaling=1, loss='squared_hinge', max_iter=1000,\n",
      "     multi_class='ovr', penalty='l2', random_state=None, tol=0.0001,\n",
      "     verbose=0)\n",
      "А теперь результат:\n",
      "0.725825706327\n",
      "Wall time: 1min 35s\n"
     ]
    }
   ],
   "source": [
    "%%time\n",
    "\n",
    "model = LinearSVC()\n",
    "print(model)\n",
    "\n",
    "print (\"А теперь результат:\")\n",
    "parameters = {'intercept_scaling':[1, 2, 3, 4, 5], 'max_iter':[1000, 2000, 200, 500]} \n",
    "\n",
    "grid = GridSearchCV(model, param_grid = parameters, n_jobs = 8)\n",
    "grid.fit(X_train, y_train)\n",
    "print (grid.best_score_)"
   ]
  },
  {
   "cell_type": "code",
   "execution_count": 5,
   "metadata": {},
   "outputs": [
    {
     "name": "stdout",
     "output_type": "stream",
     "text": [
      "LinearSVC(C=1.0, class_weight=None, dual=True, fit_intercept=True,\n",
      "     intercept_scaling=1, loss='squared_hinge', max_iter=1000,\n",
      "     multi_class='ovr', penalty='l2', random_state=None, tol=0.0001,\n",
      "     verbose=0)\n",
      "А теперь результат:\n",
      "0.726223637087\n",
      "Wall time: 18 s\n"
     ]
    }
   ],
   "source": [
    "%%time\n",
    "\n",
    "model = LinearSVC()\n",
    "print(model)\n",
    "\n",
    "print (\"А теперь результат:\")\n",
    "parameters = {'intercept_scaling':[1, 2, 3, 4, 5], 'max_iter':[1000, 2000, 200, 500]} \n",
    "\n",
    "n_iter_search = 5\n",
    "random_search = RandomizedSearchCV(model, param_distributions = parameters, n_iter = n_iter_search)\n",
    "random_search.fit(X_train, y_train)\n",
    "print (random_search.best_score_)"
   ]
  },
  {
   "cell_type": "markdown",
   "metadata": {},
   "source": [
    "## Модель RandomForestClassifier"
   ]
  },
  {
   "cell_type": "code",
   "execution_count": 48,
   "metadata": {},
   "outputs": [
    {
     "name": "stdout",
     "output_type": "stream",
     "text": [
      "RandomForestClassifier(bootstrap=True, class_weight=None, criterion='gini',\n",
      "            max_depth=None, max_features='auto', max_leaf_nodes=None,\n",
      "            min_impurity_decrease=0.0, min_impurity_split=None,\n",
      "            min_samples_leaf=1, min_samples_split=2,\n",
      "            min_weight_fraction_leaf=0.0, n_estimators=100, n_jobs=1,\n",
      "            oob_score=False, random_state=None, verbose=0,\n",
      "            warm_start=False)\n",
      "А теперь результат:\n",
      "0.792280143255\n",
      "Wall time: 2min 20s\n"
     ]
    }
   ],
   "source": [
    "%%time\n",
    "\n",
    "model = RandomForestClassifier(n_estimators=100)\n",
    "print(model)\n",
    "\n",
    "print (\"А теперь результат:\")\n",
    "parameters = {'min_samples_leaf':[1, 2, 3, 4, 5], 'min_samples_split':[2, 3, 4, 5], 'warm_start':[False, True]}  \n",
    "\n",
    "grid = GridSearchCV(model, param_grid = parameters, n_jobs = 8)\n",
    "grid.fit(X_train, y_train)\n",
    "print (grid.best_score_)"
   ]
  },
  {
   "cell_type": "code",
   "execution_count": 6,
   "metadata": {},
   "outputs": [
    {
     "name": "stdout",
     "output_type": "stream",
     "text": [
      "RandomForestClassifier(bootstrap=True, class_weight=None, criterion='gini',\n",
      "            max_depth=None, max_features='auto', max_leaf_nodes=None,\n",
      "            min_impurity_decrease=0.0, min_impurity_split=None,\n",
      "            min_samples_leaf=1, min_samples_split=2,\n",
      "            min_weight_fraction_leaf=0.0, n_estimators=100, n_jobs=1,\n",
      "            oob_score=False, random_state=None, verbose=0,\n",
      "            warm_start=False)\n",
      "А теперь результат:\n",
      "0.791484281735\n",
      "Wall time: 28.4 s\n"
     ]
    }
   ],
   "source": [
    "%%time\n",
    "\n",
    "model = RandomForestClassifier(n_estimators=100)\n",
    "print(model)\n",
    "\n",
    "print (\"А теперь результат:\")\n",
    "parameters = {'min_samples_leaf':[1, 2, 3, 4, 5], 'min_samples_split':[2, 3, 4, 5], 'warm_start':[False, True]}\n",
    "\n",
    "n_iter_search = 5\n",
    "random_search = RandomizedSearchCV(model, param_distributions = parameters, n_iter = n_iter_search)\n",
    "random_search.fit(X_train, y_train)\n",
    "print (random_search.best_score_)"
   ]
  },
  {
   "cell_type": "markdown",
   "metadata": {},
   "source": [
    "## Модель GradientBoostingClassifier"
   ]
  },
  {
   "cell_type": "code",
   "execution_count": 4,
   "metadata": {},
   "outputs": [
    {
     "name": "stdout",
     "output_type": "stream",
     "text": [
      "GradientBoostingClassifier(criterion='friedman_mse', init=None,\n",
      "              learning_rate=0.1, loss='deviance', max_depth=3,\n",
      "              max_features=None, max_leaf_nodes=None,\n",
      "              min_impurity_decrease=0.0, min_impurity_split=None,\n",
      "              min_samples_leaf=1, min_samples_split=2,\n",
      "              min_weight_fraction_leaf=0.0, n_estimators=100,\n",
      "              presort='auto', random_state=None, subsample=1.0, verbose=0,\n",
      "              warm_start=False)\n",
      "А теперь результат:\n",
      "0.785515320334\n",
      "Wall time: 10min 9s\n"
     ]
    }
   ],
   "source": [
    "%%time\n",
    "\n",
    "model = GradientBoostingClassifier(n_estimators=100)\n",
    "print(model)\n",
    "\n",
    "print (\"А теперь результат:\")\n",
    "parameters = {'min_samples_leaf':[1, 2, 3, 4, 5], 'min_samples_split':[2, 3, 4, 5], 'warm_start':[False, True]}\n",
    "\n",
    "grid = GridSearchCV(model, param_grid = parameters, n_jobs = 8)\n",
    "grid.fit(X_train, y_train)\n",
    "print (grid.best_score_)"
   ]
  },
  {
   "cell_type": "code",
   "execution_count": 7,
   "metadata": {},
   "outputs": [
    {
     "name": "stdout",
     "output_type": "stream",
     "text": [
      "GradientBoostingClassifier(criterion='friedman_mse', init=None,\n",
      "              learning_rate=0.1, loss='deviance', max_depth=3,\n",
      "              max_features=None, max_leaf_nodes=None,\n",
      "              min_impurity_decrease=0.0, min_impurity_split=None,\n",
      "              min_samples_leaf=1, min_samples_split=2,\n",
      "              min_weight_fraction_leaf=0.0, n_estimators=100,\n",
      "              presort='auto', random_state=None, subsample=1.0, verbose=0,\n",
      "              warm_start=False)\n",
      "А теперь результат:\n",
      "0.785515320334\n",
      "Wall time: 3min 32s\n"
     ]
    }
   ],
   "source": [
    "%%time\n",
    "\n",
    "model = GradientBoostingClassifier(n_estimators=100)\n",
    "print(model)\n",
    "\n",
    "print (\"А теперь результат:\")\n",
    "parameters = {'min_samples_leaf':[1, 2, 3, 4, 5], 'min_samples_split':[2, 3, 4, 5], 'warm_start':[False, True]}\n",
    "\n",
    "n_iter_search = 5\n",
    "random_search = RandomizedSearchCV(model, param_distributions = parameters, n_iter = n_iter_search)\n",
    "random_search.fit(X_train, y_train)\n",
    "print (random_search.best_score_)"
   ]
  },
  {
   "cell_type": "markdown",
   "metadata": {},
   "source": [
    "### Gridсчитается дольше, но он точнее, поэтому предпочтителен на небольших датасетах. Random же считает результат чууууточку хуже, но быстрее, поэтому он оптимален на наборах больших размеров"
   ]
  }
 ],
 "metadata": {
  "kernelspec": {
   "display_name": "Python 3",
   "language": "python",
   "name": "python3"
  },
  "language_info": {
   "codemirror_mode": {
    "name": "ipython",
    "version": 3
   },
   "file_extension": ".py",
   "mimetype": "text/x-python",
   "name": "python",
   "nbconvert_exporter": "python",
   "pygments_lexer": "ipython3",
   "version": "3.6.2"
  }
 },
 "nbformat": 4,
 "nbformat_minor": 2
}
